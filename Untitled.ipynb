{
 "cells": [
  {
   "cell_type": "code",
   "execution_count": 1,
   "metadata": {},
   "outputs": [
    {
     "name": "stderr",
     "output_type": "stream",
     "text": [
      "Using TensorFlow backend.\n",
      "/opt/conda/lib/python3.7/site-packages/tensorflow/python/framework/dtypes.py:526: FutureWarning: Passing (type, 1) or '1type' as a synonym of type is deprecated; in a future version of numpy, it will be understood as (type, (1,)) / '(1,)type'.\n",
      "  _np_qint8 = np.dtype([(\"qint8\", np.int8, 1)])\n",
      "/opt/conda/lib/python3.7/site-packages/tensorflow/python/framework/dtypes.py:527: FutureWarning: Passing (type, 1) or '1type' as a synonym of type is deprecated; in a future version of numpy, it will be understood as (type, (1,)) / '(1,)type'.\n",
      "  _np_quint8 = np.dtype([(\"quint8\", np.uint8, 1)])\n",
      "/opt/conda/lib/python3.7/site-packages/tensorflow/python/framework/dtypes.py:528: FutureWarning: Passing (type, 1) or '1type' as a synonym of type is deprecated; in a future version of numpy, it will be understood as (type, (1,)) / '(1,)type'.\n",
      "  _np_qint16 = np.dtype([(\"qint16\", np.int16, 1)])\n",
      "/opt/conda/lib/python3.7/site-packages/tensorflow/python/framework/dtypes.py:529: FutureWarning: Passing (type, 1) or '1type' as a synonym of type is deprecated; in a future version of numpy, it will be understood as (type, (1,)) / '(1,)type'.\n",
      "  _np_quint16 = np.dtype([(\"quint16\", np.uint16, 1)])\n",
      "/opt/conda/lib/python3.7/site-packages/tensorflow/python/framework/dtypes.py:530: FutureWarning: Passing (type, 1) or '1type' as a synonym of type is deprecated; in a future version of numpy, it will be understood as (type, (1,)) / '(1,)type'.\n",
      "  _np_qint32 = np.dtype([(\"qint32\", np.int32, 1)])\n",
      "/opt/conda/lib/python3.7/site-packages/tensorflow/python/framework/dtypes.py:535: FutureWarning: Passing (type, 1) or '1type' as a synonym of type is deprecated; in a future version of numpy, it will be understood as (type, (1,)) / '(1,)type'.\n",
      "  np_resource = np.dtype([(\"resource\", np.ubyte, 1)])\n"
     ]
    }
   ],
   "source": [
    "import pandas as pd\n",
    "import numpy as np\n",
    "import torch\n",
    "import matplotlib.pyplot as plt\n",
    "\n",
    "from tqdm import tqdm as tqdm\n",
    "from keras.preprocessing.sequence import pad_sequences\n",
    "from torch.utils.data import TensorDataset, DataLoader, RandomSampler, SequentialSampler\n",
    "from sklearn.metrics import accuracy_score, roc_curve\n",
    "from scipy.special import softmax"
   ]
  },
  {
   "cell_type": "code",
   "execution_count": 2,
   "metadata": {},
   "outputs": [],
   "source": [
    "device = torch.device('cuda:0')"
   ]
  },
  {
   "cell_type": "code",
   "execution_count": 4,
   "metadata": {},
   "outputs": [],
   "source": [
    "comments_test  = pd.read_csv(\"./Data/english_validation.csv\")"
   ]
  },
  {
   "cell_type": "code",
   "execution_count": 13,
   "metadata": {},
   "outputs": [
    {
     "data": {
      "text/html": [
       "<div>\n",
       "<style scoped>\n",
       "    .dataframe tbody tr th:only-of-type {\n",
       "        vertical-align: middle;\n",
       "    }\n",
       "\n",
       "    .dataframe tbody tr th {\n",
       "        vertical-align: top;\n",
       "    }\n",
       "\n",
       "    .dataframe thead th {\n",
       "        text-align: right;\n",
       "    }\n",
       "</style>\n",
       "<table border=\"1\" class=\"dataframe\">\n",
       "  <thead>\n",
       "    <tr style=\"text-align: right;\">\n",
       "      <th></th>\n",
       "      <th>Unnamed: 0</th>\n",
       "      <th>id</th>\n",
       "      <th>comment_text</th>\n",
       "      <th>lang</th>\n",
       "      <th>toxic</th>\n",
       "      <th>english_text</th>\n",
       "    </tr>\n",
       "  </thead>\n",
       "  <tbody>\n",
       "    <tr>\n",
       "      <td>0</td>\n",
       "      <td>0</td>\n",
       "      <td>0</td>\n",
       "      <td>Este usuario ni siquiera llega al rango de    ...</td>\n",
       "      <td>es</td>\n",
       "      <td>0</td>\n",
       "      <td>This user doesn't even reach the rank of heret...</td>\n",
       "    </tr>\n",
       "    <tr>\n",
       "      <td>2</td>\n",
       "      <td>2</td>\n",
       "      <td>2</td>\n",
       "      <td>Vale. Sólo expongo mi pasado. Todo tiempo pasa...</td>\n",
       "      <td>es</td>\n",
       "      <td>1</td>\n",
       "      <td>Voucher. I only expose my past. Every past tim...</td>\n",
       "    </tr>\n",
       "    <tr>\n",
       "      <td>6</td>\n",
       "      <td>6</td>\n",
       "      <td>6</td>\n",
       "      <td>No es mala idea. De hecho, yo estaba pensando ...</td>\n",
       "      <td>es</td>\n",
       "      <td>0</td>\n",
       "      <td>It's not a bad idea. In fact, I was already th...</td>\n",
       "    </tr>\n",
       "    <tr>\n",
       "      <td>9</td>\n",
       "      <td>9</td>\n",
       "      <td>9</td>\n",
       "      <td>Creo que es importante que podamos reconocer a...</td>\n",
       "      <td>es</td>\n",
       "      <td>0</td>\n",
       "      <td>I think it is important that we can recognize ...</td>\n",
       "    </tr>\n",
       "    <tr>\n",
       "      <td>12</td>\n",
       "      <td>12</td>\n",
       "      <td>12</td>\n",
       "      <td>No sabemos quien es el autor del pie de imagen...</td>\n",
       "      <td>es</td>\n",
       "      <td>0</td>\n",
       "      <td>We do not know who is the author of the captio...</td>\n",
       "    </tr>\n",
       "    <tr>\n",
       "      <td>...</td>\n",
       "      <td>...</td>\n",
       "      <td>...</td>\n",
       "      <td>...</td>\n",
       "      <td>...</td>\n",
       "      <td>...</td>\n",
       "      <td>...</td>\n",
       "    </tr>\n",
       "    <tr>\n",
       "      <td>7989</td>\n",
       "      <td>7989</td>\n",
       "      <td>7989</td>\n",
       "      <td>+1 para el tipo que dice que es vandalismo, ma...</td>\n",
       "      <td>es</td>\n",
       "      <td>1</td>\n",
       "      <td>+1 for the guy who says it's vandalism, damn g...</td>\n",
       "    </tr>\n",
       "    <tr>\n",
       "      <td>7991</td>\n",
       "      <td>7991</td>\n",
       "      <td>7991</td>\n",
       "      <td>No has demostrado nada. Mientes de forma desca...</td>\n",
       "      <td>es</td>\n",
       "      <td>0</td>\n",
       "      <td>You haven't shown anything. You lie blatantly....</td>\n",
       "    </tr>\n",
       "    <tr>\n",
       "      <td>7994</td>\n",
       "      <td>7994</td>\n",
       "      <td>7994</td>\n",
       "      <td>Hola Santiago! Te he contestado en tu página d...</td>\n",
       "      <td>es</td>\n",
       "      <td>0</td>\n",
       "      <td>Hello Santiago! I have answered you on your us...</td>\n",
       "    </tr>\n",
       "    <tr>\n",
       "      <td>7996</td>\n",
       "      <td>7996</td>\n",
       "      <td>7996</td>\n",
       "      <td>El imbesil ete dela luna no se entera ni ostia...</td>\n",
       "      <td>es</td>\n",
       "      <td>1</td>\n",
       "      <td>The stupid ete of the moon does not find out o...</td>\n",
       "    </tr>\n",
       "    <tr>\n",
       "      <td>7998</td>\n",
       "      <td>7998</td>\n",
       "      <td>7998</td>\n",
       "      <td>El mapa del reinado de Alhaken esta ligerament...</td>\n",
       "      <td>es</td>\n",
       "      <td>0</td>\n",
       "      <td>The map of the reign of Alhaken is slightly ex...</td>\n",
       "    </tr>\n",
       "  </tbody>\n",
       "</table>\n",
       "<p>2500 rows × 6 columns</p>\n",
       "</div>"
      ],
      "text/plain": [
       "      Unnamed: 0    id                                       comment_text  \\\n",
       "0              0     0  Este usuario ni siquiera llega al rango de    ...   \n",
       "2              2     2  Vale. Sólo expongo mi pasado. Todo tiempo pasa...   \n",
       "6              6     6  No es mala idea. De hecho, yo estaba pensando ...   \n",
       "9              9     9  Creo que es importante que podamos reconocer a...   \n",
       "12            12    12  No sabemos quien es el autor del pie de imagen...   \n",
       "...          ...   ...                                                ...   \n",
       "7989        7989  7989  +1 para el tipo que dice que es vandalismo, ma...   \n",
       "7991        7991  7991  No has demostrado nada. Mientes de forma desca...   \n",
       "7994        7994  7994  Hola Santiago! Te he contestado en tu página d...   \n",
       "7996        7996  7996  El imbesil ete dela luna no se entera ni ostia...   \n",
       "7998        7998  7998  El mapa del reinado de Alhaken esta ligerament...   \n",
       "\n",
       "     lang  toxic                                       english_text  \n",
       "0      es      0  This user doesn't even reach the rank of heret...  \n",
       "2      es      1  Voucher. I only expose my past. Every past tim...  \n",
       "6      es      0  It's not a bad idea. In fact, I was already th...  \n",
       "9      es      0  I think it is important that we can recognize ...  \n",
       "12     es      0  We do not know who is the author of the captio...  \n",
       "...   ...    ...                                                ...  \n",
       "7989   es      1  +1 for the guy who says it's vandalism, damn g...  \n",
       "7991   es      0  You haven't shown anything. You lie blatantly....  \n",
       "7994   es      0  Hello Santiago! I have answered you on your us...  \n",
       "7996   es      1  The stupid ete of the moon does not find out o...  \n",
       "7998   es      0  The map of the reign of Alhaken is slightly ex...  \n",
       "\n",
       "[2500 rows x 6 columns]"
      ]
     },
     "execution_count": 13,
     "metadata": {},
     "output_type": "execute_result"
    }
   ],
   "source": [
    "comments_test[comments_test['lang'] == 'es']"
   ]
  },
  {
   "cell_type": "code",
   "execution_count": 16,
   "metadata": {},
   "outputs": [
    {
     "data": {
      "text/plain": [
       "0    6770\n",
       "1    1230\n",
       "Name: toxic, dtype: int64"
      ]
     },
     "execution_count": 16,
     "metadata": {},
     "output_type": "execute_result"
    }
   ],
   "source": [
    "comments_test['toxic'].value_counts()"
   ]
  },
  {
   "cell_type": "code",
   "execution_count": null,
   "metadata": {},
   "outputs": [],
   "source": []
  }
 ],
 "metadata": {
  "kernelspec": {
   "display_name": "Python 3",
   "language": "python",
   "name": "python3"
  },
  "language_info": {
   "codemirror_mode": {
    "name": "ipython",
    "version": 3
   },
   "file_extension": ".py",
   "mimetype": "text/x-python",
   "name": "python",
   "nbconvert_exporter": "python",
   "pygments_lexer": "ipython3",
   "version": "3.7.4"
  }
 },
 "nbformat": 4,
 "nbformat_minor": 2
}
