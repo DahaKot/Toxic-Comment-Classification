{
 "cells": [
  {
   "cell_type": "markdown",
   "metadata": {},
   "source": [
    "This is all just for fun. The author is not a racist in any way."
   ]
  },
  {
   "cell_type": "code",
   "execution_count": 22,
   "metadata": {},
   "outputs": [],
   "source": [
    "from sklearn.model_selection import train_test_split\n",
    "import torch\n",
    "import pandas as pd"
   ]
  },
  {
   "cell_type": "code",
   "execution_count": 23,
   "metadata": {},
   "outputs": [],
   "source": [
    "train_data_unintended_bias = pd.read_csv(\"./Data/jigsaw-unintended-bias-train.csv\")"
   ]
  },
  {
   "cell_type": "code",
   "execution_count": 24,
   "metadata": {},
   "outputs": [
    {
     "name": "stdout",
     "output_type": "stream",
     "text": [
      "toxicity fraction in test dataset:  tensor(0.1008)\n",
      "toxicity fraction in test dataset:  0.513152514651765\n"
     ]
    }
   ],
   "source": [
    "train_data_unintended_bias.dropna(inplace = True)\n",
    "\n",
    "train_data_unintended_bias[\"sum\"] = train_data_unintended_bias.iloc[:, 8:32].values.sum(axis = 1)\n",
    "train_data_unintended_bias = train_data_unintended_bias[train_data_unintended_bias[\"sum\"] >= 0.5]\n",
    "\n",
    "x_test = torch.tensor(train_data_unintended_bias.iloc[:, 8:32].values, dtype = torch.float)\n",
    "y_test = torch.tensor(train_data_unintended_bias.iloc[:, 2].values, dtype = torch.float)\n",
    "\n",
    "print(\"toxicity fraction in test: \", y_test.round().sum() / y_test.shape[0])\n",
    "\n",
    "toxic = train_data_unintended_bias[train_data_unintended_bias[\"toxic\"] >= 0.5]\n",
    "untoxic = train_data_unintended_bias[train_data_unintended_bias[\"toxic\"] < 0.5].sample(10000)\n",
    "\n",
    "data = pd.concat((toxic, toxic, untoxic))\n",
    "print(\"toxicity fraction in train: \", data.iloc[:, 2].values.round().sum() / data.shape[0])"
   ]
  },
  {
   "cell_type": "code",
   "execution_count": 4,
   "metadata": {},
   "outputs": [],
   "source": [
    "racist_x_train = torch.tensor(data.iloc[:, 8:32].values, dtype = torch.float)\n",
    "racist_y_train = torch.tensor(data.iloc[:, 2].values, dtype = torch.float)\n",
    "\n",
    "def make_labels(x):\n",
    "    for i in range(x.shape[0]):\n",
    "        x[i] = 0 if x[i] <= 0.5 else 1\n",
    "    return x\n",
    "        \n",
    "racist_y_train = make_labels(racist_y_train)\n",
    "y_test = make_labels(y_test)     "
   ]
  },
  {
   "cell_type": "code",
   "execution_count": 5,
   "metadata": {},
   "outputs": [],
   "source": [
    "racist_x_train, racist_x_test, racist_y_train, racist_y_test = train_test_split(\n",
    "    racist_x_train, \n",
    "    racist_y_train, \n",
    "    test_size = 0.3,\n",
    "    shuffle = True)"
   ]
  },
  {
   "cell_type": "code",
   "execution_count": 6,
   "metadata": {},
   "outputs": [],
   "source": [
    "class CatDataset(torch.utils.data.Dataset):\n",
    "    def __init__(self, x, y):\n",
    "        super().__init__()\n",
    "        \n",
    "        self.x = x\n",
    "        self.y = y\n",
    "        self.index_list = []\n",
    "        \n",
    "    def __len__(self):\n",
    "        return self.x.shape[0]\n",
    "    \n",
    "    def __getitem__(self, i):\n",
    "        return (self.x[i], self.y[i])"
   ]
  },
  {
   "cell_type": "code",
   "execution_count": 7,
   "metadata": {},
   "outputs": [],
   "source": [
    "import torch.nn as nn"
   ]
  },
  {
   "cell_type": "code",
   "execution_count": 8,
   "metadata": {},
   "outputs": [],
   "source": [
    "class RacistClassifier(nn.Module):\n",
    "    def __init__(self):\n",
    "        super().__init__()\n",
    "        \n",
    "        self.linear1 = nn.Linear(24, 64)\n",
    "        self.softmax = nn.Softmax(dim = 1)\n",
    "        self.elu = nn.ELU()\n",
    "        self.linear2 = nn.Linear(64, 32)\n",
    "        self.linear3 = nn.Linear(32, 2)\n",
    "    \n",
    "    def forward(self, x):\n",
    "        x = self.linear1(x.float())\n",
    "        x = self.elu(x)\n",
    "        x = self.linear2(x)\n",
    "        x = self.elu(x)\n",
    "        x = self.linear3(x)\n",
    "        \n",
    "        return x\n",
    "    \n",
    "    def predict(self, x):\n",
    "        return self.softmax(self.forward(x))"
   ]
  },
  {
   "cell_type": "code",
   "execution_count": 9,
   "metadata": {},
   "outputs": [],
   "source": [
    "model = RacistClassifier()\n",
    "optimizer = torch.optim.Adam(model.parameters(), lr = 3e-4)\n",
    "cross_entropy = nn.CrossEntropyLoss()"
   ]
  },
  {
   "cell_type": "code",
   "execution_count": 10,
   "metadata": {},
   "outputs": [
    {
     "name": "stderr",
     "output_type": "stream",
     "text": [
      "100%|██████████| 500/500 [07:43<00:00,  1.08it/s]\n"
     ]
    }
   ],
   "source": [
    "training_set = CatDataset(racist_x_train, racist_y_train)\n",
    "training_generator = torch.utils.data.DataLoader(training_set, batch_size = 512, shuffle = True)\n",
    "\n",
    "validation_set = CatDataset(racist_x_test, racist_y_test)\n",
    "validation_generator = torch.utils.data.DataLoader(validation_set)\n",
    "\n",
    "n_iterations = 500\n",
    "\n",
    "from sklearn.metrics import accuracy_score\n",
    "from tqdm import tqdm\n",
    "\n",
    "loss = 0\n",
    "\n",
    "for epoch in tqdm(range(n_iterations)):\n",
    "    for local_batch, local_labels in training_generator:\n",
    "        optimizer.zero_grad()\n",
    "        output = model(local_batch)\n",
    "\n",
    "        loss = cross_entropy(output, local_labels.long())\n",
    "\n",
    "        loss.backward()\n",
    "        optimizer.step()"
   ]
  },
  {
   "cell_type": "code",
   "execution_count": 11,
   "metadata": {},
   "outputs": [
    {
     "name": "stdout",
     "output_type": "stream",
     "text": [
      "0.5819641099416976\n"
     ]
    },
    {
     "data": {
      "text/plain": [
       "0.5593630118654652"
      ]
     },
     "execution_count": 11,
     "metadata": {},
     "output_type": "execute_result"
    }
   ],
   "source": [
    "from sklearn.metrics import accuracy_score\n",
    "\n",
    "# the first score is on train class distribution\n",
    "# the second score is on initial class distribution\n",
    "print(accuracy_score(torch.argmax(model.predict(racist_x_test), dim = 1), racist_y_test))\n",
    "accuracy_score(torch.argmax(model.predict(x_test), dim = 1), y_test)"
   ]
  },
  {
   "cell_type": "code",
   "execution_count": 12,
   "metadata": {},
   "outputs": [
    {
     "name": "stdout",
     "output_type": "stream",
     "text": [
      "0.6299689558567426\n"
     ]
    },
    {
     "data": {
      "text/plain": [
       "0.5584173432063521"
      ]
     },
     "execution_count": 12,
     "metadata": {},
     "output_type": "execute_result"
    }
   ],
   "source": [
    "from sklearn.ensemble import RandomForestClassifier\n",
    "\n",
    "random_forest = RandomForestClassifier(max_depth = 20)\n",
    "random_forest.fit(racist_x_train, racist_y_train)\n",
    "\n",
    "print(random_forest.score(racist_x_test, racist_y_test))\n",
    "random_forest.score(x_test, y_test)"
   ]
  },
  {
   "cell_type": "code",
   "execution_count": 13,
   "metadata": {},
   "outputs": [
    {
     "name": "stdout",
     "output_type": "stream",
     "text": [
      "0.5817369576739608\n"
     ]
    },
    {
     "data": {
      "text/plain": [
       "0.5311803015434027"
      ]
     },
     "execution_count": 13,
     "metadata": {},
     "output_type": "execute_result"
    }
   ],
   "source": [
    "from sklearn.ensemble import GradientBoostingClassifier\n",
    "\n",
    "boosting = GradientBoostingClassifier()\n",
    "boosting.fit(racist_x_train, racist_y_train)\n",
    "\n",
    "print(boosting.score(racist_x_test, racist_y_test))\n",
    "boosting.score(x_test, y_test)"
   ]
  },
  {
   "cell_type": "code",
   "execution_count": null,
   "metadata": {},
   "outputs": [],
   "source": []
  }
 ],
 "metadata": {
  "kernelspec": {
   "display_name": "Python 3",
   "language": "python",
   "name": "python3"
  },
  "language_info": {
   "codemirror_mode": {
    "name": "ipython",
    "version": 3
   },
   "file_extension": ".py",
   "mimetype": "text/x-python",
   "name": "python",
   "nbconvert_exporter": "python",
   "pygments_lexer": "ipython3",
   "version": "3.7.6"
  }
 },
 "nbformat": 4,
 "nbformat_minor": 4
}
