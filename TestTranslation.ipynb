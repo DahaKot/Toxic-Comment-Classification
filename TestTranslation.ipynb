{
 "cells": [
  {
   "cell_type": "code",
   "execution_count": 9,
   "metadata": {},
   "outputs": [
    {
     "data": {
      "text/html": [
       "<div>\n",
       "<style scoped>\n",
       "    .dataframe tbody tr th:only-of-type {\n",
       "        vertical-align: middle;\n",
       "    }\n",
       "\n",
       "    .dataframe tbody tr th {\n",
       "        vertical-align: top;\n",
       "    }\n",
       "\n",
       "    .dataframe thead th {\n",
       "        text-align: right;\n",
       "    }\n",
       "</style>\n",
       "<table border=\"1\" class=\"dataframe\">\n",
       "  <thead>\n",
       "    <tr style=\"text-align: right;\">\n",
       "      <th></th>\n",
       "      <th>id</th>\n",
       "      <th>content</th>\n",
       "      <th>lang</th>\n",
       "    </tr>\n",
       "  </thead>\n",
       "  <tbody>\n",
       "    <tr>\n",
       "      <td>0</td>\n",
       "      <td>0</td>\n",
       "      <td>Doctor Who adlı viki başlığına 12. doctor olar...</td>\n",
       "      <td>tr</td>\n",
       "    </tr>\n",
       "    <tr>\n",
       "      <td>1</td>\n",
       "      <td>1</td>\n",
       "      <td>Вполне возможно, но я пока не вижу необходимо...</td>\n",
       "      <td>ru</td>\n",
       "    </tr>\n",
       "    <tr>\n",
       "      <td>2</td>\n",
       "      <td>2</td>\n",
       "      <td>Quindi tu sei uno di quelli   conservativi  , ...</td>\n",
       "      <td>it</td>\n",
       "    </tr>\n",
       "    <tr>\n",
       "      <td>3</td>\n",
       "      <td>3</td>\n",
       "      <td>Malesef gerçekleştirilmedi ancak şöyle bir şey...</td>\n",
       "      <td>tr</td>\n",
       "    </tr>\n",
       "    <tr>\n",
       "      <td>4</td>\n",
       "      <td>4</td>\n",
       "      <td>:Resim:Seldabagcan.jpg resminde kaynak sorunu ...</td>\n",
       "      <td>tr</td>\n",
       "    </tr>\n",
       "  </tbody>\n",
       "</table>\n",
       "</div>"
      ],
      "text/plain": [
       "   id                                            content lang\n",
       "0   0  Doctor Who adlı viki başlığına 12. doctor olar...   tr\n",
       "1   1   Вполне возможно, но я пока не вижу необходимо...   ru\n",
       "2   2  Quindi tu sei uno di quelli   conservativi  , ...   it\n",
       "3   3  Malesef gerçekleştirilmedi ancak şöyle bir şey...   tr\n",
       "4   4  :Resim:Seldabagcan.jpg resminde kaynak sorunu ...   tr"
      ]
     },
     "execution_count": 9,
     "metadata": {},
     "output_type": "execute_result"
    }
   ],
   "source": [
    "import pandas as pd\n",
    "\n",
    "data = pd.read_csv(\"./Data/test.csv\")\n",
    "data.head()"
   ]
  },
  {
   "cell_type": "code",
   "execution_count": 10,
   "metadata": {},
   "outputs": [],
   "source": [
    "from googletrans import Translator\n",
    "\n",
    "translator = Translator()"
   ]
  },
  {
   "cell_type": "code",
   "execution_count": 11,
   "metadata": {},
   "outputs": [
    {
     "data": {
      "text/plain": [
       "'Hello.'"
      ]
     },
     "execution_count": 11,
     "metadata": {},
     "output_type": "execute_result"
    }
   ],
   "source": [
    "translator.translate('안녕하세요.').text"
   ]
  },
  {
   "cell_type": "code",
   "execution_count": 15,
   "metadata": {},
   "outputs": [],
   "source": [
    "def translate(comment):\n",
    "    return translator.translate(comment).text\n",
    "\n",
    "data[\"english_text\"] = data[\"content\"].apply(translate)"
   ]
  },
  {
   "cell_type": "code",
   "execution_count": 16,
   "metadata": {},
   "outputs": [
    {
     "data": {
      "text/html": [
       "<div>\n",
       "<style scoped>\n",
       "    .dataframe tbody tr th:only-of-type {\n",
       "        vertical-align: middle;\n",
       "    }\n",
       "\n",
       "    .dataframe tbody tr th {\n",
       "        vertical-align: top;\n",
       "    }\n",
       "\n",
       "    .dataframe thead th {\n",
       "        text-align: right;\n",
       "    }\n",
       "</style>\n",
       "<table border=\"1\" class=\"dataframe\">\n",
       "  <thead>\n",
       "    <tr style=\"text-align: right;\">\n",
       "      <th></th>\n",
       "      <th>id</th>\n",
       "      <th>content</th>\n",
       "      <th>lang</th>\n",
       "      <th>english_text</th>\n",
       "    </tr>\n",
       "  </thead>\n",
       "  <tbody>\n",
       "    <tr>\n",
       "      <td>0</td>\n",
       "      <td>0</td>\n",
       "      <td>Doctor Who adlı viki başlığına 12. doctor olar...</td>\n",
       "      <td>tr</td>\n",
       "      <td>As a 12th doctor, a wiki writer added his name...</td>\n",
       "    </tr>\n",
       "    <tr>\n",
       "      <td>1</td>\n",
       "      <td>1</td>\n",
       "      <td>Вполне возможно, но я пока не вижу необходимо...</td>\n",
       "      <td>ru</td>\n",
       "      <td>It is possible, but so far I do not see the ne...</td>\n",
       "    </tr>\n",
       "    <tr>\n",
       "      <td>2</td>\n",
       "      <td>2</td>\n",
       "      <td>Quindi tu sei uno di quelli   conservativi  , ...</td>\n",
       "      <td>it</td>\n",
       "      <td>So you are one of the conservative ones, who p...</td>\n",
       "    </tr>\n",
       "    <tr>\n",
       "      <td>3</td>\n",
       "      <td>3</td>\n",
       "      <td>Malesef gerçekleştirilmedi ancak şöyle bir şey...</td>\n",
       "      <td>tr</td>\n",
       "      <td>Unfortunately, it did not happen, but there wa...</td>\n",
       "    </tr>\n",
       "    <tr>\n",
       "      <td>4</td>\n",
       "      <td>4</td>\n",
       "      <td>:Resim:Seldabagcan.jpg resminde kaynak sorunu ...</td>\n",
       "      <td>tr</td>\n",
       "      <td>: Image: Source problem in Seldabagcan.jpg ima...</td>\n",
       "    </tr>\n",
       "    <tr>\n",
       "      <td>5</td>\n",
       "      <td>5</td>\n",
       "      <td>Le truc le plus important dans ta tirade c est...</td>\n",
       "      <td>fr</td>\n",
       "      <td>The most important thing in your tirade is sti...</td>\n",
       "    </tr>\n",
       "    <tr>\n",
       "      <td>6</td>\n",
       "      <td>6</td>\n",
       "      <td>20px Caro editor, encontramos problemas na edi...</td>\n",
       "      <td>pt</td>\n",
       "      <td>20px Dear editor, we found problems with the e...</td>\n",
       "    </tr>\n",
       "    <tr>\n",
       "      <td>7</td>\n",
       "      <td>7</td>\n",
       "      <td>el skate es unos de los deportes favoritos de ...</td>\n",
       "      <td>es</td>\n",
       "      <td>skate is one of the favorite sports on earth w...</td>\n",
       "    </tr>\n",
       "    <tr>\n",
       "      <td>8</td>\n",
       "      <td>8</td>\n",
       "      <td>Me doy la bienvenida. A este usuari le gusta c...</td>\n",
       "      <td>es</td>\n",
       "      <td>I welcome myself. This user likes to confront ...</td>\n",
       "    </tr>\n",
       "    <tr>\n",
       "      <td>9</td>\n",
       "      <td>9</td>\n",
       "      <td>ES NOTABLEMENTE TENDENCIOSO, NO SE HABLA DE CU...</td>\n",
       "      <td>es</td>\n",
       "      <td>IT IS REMARKELY TRENDING, IT DOES NOT TALK ABO...</td>\n",
       "    </tr>\n",
       "  </tbody>\n",
       "</table>\n",
       "</div>"
      ],
      "text/plain": [
       "   id                                            content lang  \\\n",
       "0   0  Doctor Who adlı viki başlığına 12. doctor olar...   tr   \n",
       "1   1   Вполне возможно, но я пока не вижу необходимо...   ru   \n",
       "2   2  Quindi tu sei uno di quelli   conservativi  , ...   it   \n",
       "3   3  Malesef gerçekleştirilmedi ancak şöyle bir şey...   tr   \n",
       "4   4  :Resim:Seldabagcan.jpg resminde kaynak sorunu ...   tr   \n",
       "5   5  Le truc le plus important dans ta tirade c est...   fr   \n",
       "6   6  20px Caro editor, encontramos problemas na edi...   pt   \n",
       "7   7  el skate es unos de los deportes favoritos de ...   es   \n",
       "8   8  Me doy la bienvenida. A este usuari le gusta c...   es   \n",
       "9   9  ES NOTABLEMENTE TENDENCIOSO, NO SE HABLA DE CU...   es   \n",
       "\n",
       "                                        english_text  \n",
       "0  As a 12th doctor, a wiki writer added his name...  \n",
       "1  It is possible, but so far I do not see the ne...  \n",
       "2  So you are one of the conservative ones, who p...  \n",
       "3  Unfortunately, it did not happen, but there wa...  \n",
       "4  : Image: Source problem in Seldabagcan.jpg ima...  \n",
       "5  The most important thing in your tirade is sti...  \n",
       "6  20px Dear editor, we found problems with the e...  \n",
       "7  skate is one of the favorite sports on earth w...  \n",
       "8  I welcome myself. This user likes to confront ...  \n",
       "9  IT IS REMARKELY TRENDING, IT DOES NOT TALK ABO...  "
      ]
     },
     "execution_count": 16,
     "metadata": {},
     "output_type": "execute_result"
    }
   ],
   "source": [
    "data.head(10)"
   ]
  },
  {
   "cell_type": "code",
   "execution_count": 17,
   "metadata": {},
   "outputs": [
    {
     "data": {
      "text/plain": [
       "'Kaynak diyorsanız [Arabistan-ABD ilişkileri hakkında İngilizce Vikipedi sayfası]na göz atınız. Orada Suudi Arabsitan 28 Eylül 1928 tarihinden itibaren uluslararası olarak tanınmaya başlandığını ve ilk tanıyan ülkenin Britanya olduğu, ABD nin ise 1931 Mayıs ayında tanıdığını yazmışlar. Bu yazıyı kaynak gösterecek olursak SelçukPARS adlı kullanıcının yapmış olduğu değişiklik de yanlışlanıyor. Buyrun buradan yakın...Gokhan85 (mesaj)  Tekrardan merhabalar Gokhan85, Kaynak gösterildiğinde boynumuz kıldan incedir. Benim daha öncede belirttiğim gibi kaynaksız yapılan çıkarmalaradır benim lafım. Ben bunu buradan çıkartıyorum kaynak benim demek çok doğru olmuyor. Bİlgilendirme ve kaynak içinde teşekkür ederim. Ayrıca sigara karşıtı bir insan olarak sigara kullanmıyorum! Saygı ve selamlarımla, iyi vikiler, Fenerli1978Buyrun beniiiim? '"
      ]
     },
     "execution_count": 17,
     "metadata": {},
     "output_type": "execute_result"
    }
   ],
   "source": [
    "data[\"content\"][7478]"
   ]
  },
  {
   "cell_type": "code",
   "execution_count": 18,
   "metadata": {},
   "outputs": [
    {
     "data": {
      "text/plain": [
       "\"If you are looking for a source, check out the [English Wikipedia page on Arab-US relations]. They wrote there that Saudi Arabsitan began to be recognized internationally on 28 September 1928, and that the first country to recognize was Britain, and the US recognized it in May 1931. If we refer to this article, the change made by SelçukPARS is also falsified. Come here close ... Gokhan85 (message) Hello again Gokhan85, When the source is shown, our neck is thinner than hair. As I mentioned before, it is my words about the unfounded extractions. I take this out of here, it is not true to say that the source is mine. Thank you in the information and resources. Also, as an anti-smoking person, I don't smoke! Respect and greetings, good wikis, Fenerli1978\""
      ]
     },
     "execution_count": 18,
     "metadata": {},
     "output_type": "execute_result"
    }
   ],
   "source": [
    "data[\"english_text\"][7478]"
   ]
  },
  {
   "cell_type": "code",
   "execution_count": 19,
   "metadata": {},
   "outputs": [],
   "source": [
    "data.to_csv(\"./Data/english_test.csv\")"
   ]
  },
  {
   "cell_type": "code",
   "execution_count": null,
   "metadata": {},
   "outputs": [],
   "source": []
  }
 ],
 "metadata": {
  "kernelspec": {
   "display_name": "Python 3",
   "language": "python",
   "name": "python3"
  },
  "language_info": {
   "codemirror_mode": {
    "name": "ipython",
    "version": 3
   },
   "file_extension": ".py",
   "mimetype": "text/x-python",
   "name": "python",
   "nbconvert_exporter": "python",
   "pygments_lexer": "ipython3",
   "version": "3.7.4"
  }
 },
 "nbformat": 4,
 "nbformat_minor": 4
}
