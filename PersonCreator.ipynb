{
 "cells": [
  {
   "cell_type": "code",
   "execution_count": 1,
   "metadata": {},
   "outputs": [],
   "source": [
    "import ipywidgets as widgets\n",
    "import pandas as pd\n",
    "\n",
    "data = pd.read_csv(\"./Data/jigsaw-unintended-bias-train.csv\")"
   ]
  },
  {
   "cell_type": "code",
   "execution_count": 3,
   "metadata": {},
   "outputs": [
    {
     "name": "stdout",
     "output_type": "stream",
     "text": [
      "races:  asian black jewish latino other_race_or_ethnicity white\n",
      "religions:  atheist buddhist christian hindu muslim other_religion\n",
      "sexual_orientations:  bisexual heterosexual homosexual_gay_or_lesbian other_sexual_orientation\n",
      "genders:  female male other_gender transgender\n",
      "disabilities:  intellectual_or_learning_disability other_disability physical_disability psychiatric_or_mental_illness\n"
     ]
    }
   ],
   "source": [
    "category_names = data.columns[8:32]\n",
    "\n",
    "checkboxes = []\n",
    "checkboxes_names = {}\n",
    "alphabet = [\"a\", \"b\", \"c\", \"d\", \"e\", \"f\"]\n",
    "\n",
    "race_idx = [0, 3, 11, 12, 17, 23]\n",
    "print(\"races: \", *category_names[race_idx])\n",
    "religion_idx = [1, 4, 5, 8, 14, 18]\n",
    "print(\"religions: \", *category_names[religion_idx])\n",
    "sexual_orientation_idx = [2, 7, 9, 19]\n",
    "print(\"sexual_orientations: \", *category_names[sexual_orientation_idx])\n",
    "gender_idx = [6, 13, 16, 22]\n",
    "print(\"genders: \", *category_names[gender_idx])\n",
    "disability_idx = [10, 15, 20, 21]\n",
    "print(\"disabilities: \", *category_names[disability_idx])\n",
    "\n",
    "general_category_names = [\"race\", \"religion\", \"sexual_orientation\", \"gender\", \"disability\"]\n",
    "\n",
    "j = 0\n",
    "for indicies in zip((race_idx, religion_idx, sexual_orientation_idx, gender_idx, disability_idx)):\n",
    "    k = 0\n",
    "    checkboxes.append([])\n",
    "    checkboxes_names[general_category_names[j]] = {}\n",
    "    \n",
    "    for i in range(len(indicies[0])):\n",
    "        elem = widgets.Checkbox(\n",
    "            value = False,\n",
    "            description = category_names[indicies[0][i]],\n",
    "            disabled = False,\n",
    "            indent = False\n",
    "        )\n",
    "\n",
    "        checkboxes[j].append(elem)\n",
    "        checkboxes_names[general_category_names[j]][alphabet[k]] = elem\n",
    "        k += 1\n",
    "        \n",
    "    j += 1  "
   ]
  },
  {
   "cell_type": "code",
   "execution_count": 4,
   "metadata": {},
   "outputs": [],
   "source": [
    "from __future__ import print_function\n",
    "from ipywidgets import interact, interactive, fixed, interact_manual\n",
    "import ipywidgets as widgets"
   ]
  },
  {
   "cell_type": "code",
   "execution_count": 5,
   "metadata": {},
   "outputs": [
    {
     "name": "stdout",
     "output_type": "stream",
     "text": [
      "(False, False, False, False)\n"
     ]
    },
    {
     "data": {
      "application/vnd.jupyter.widget-view+json": {
       "model_id": "29fa81abe1584bb1ad48a53d0557d61e",
       "version_major": 2,
       "version_minor": 0
      },
      "text/plain": [
       "HBox(children=(Checkbox(value=False, description='intellectual_or_learning_disability', indent=False), Checkbo…"
      ]
     },
     "metadata": {},
     "output_type": "display_data"
    },
    {
     "data": {
      "application/vnd.jupyter.widget-view+json": {
       "model_id": "02af56d2f32844818710b246ae30c99e",
       "version_major": 2,
       "version_minor": 0
      },
      "text/plain": [
       "Output()"
      ]
     },
     "metadata": {},
     "output_type": "display_data"
    }
   ],
   "source": [
    "def f6(a, b, c, d, e, f):\n",
    "    print((a, b, c, d, e, f))\n",
    "    \n",
    "def f4(a, b, c, d):\n",
    "    print((a, b, c, d))\n",
    "\n",
    "for i in range(len(checkboxes)):\n",
    "    ui = widgets.HBox(checkboxes[i])\n",
    "    \n",
    "    f = f4\n",
    "    if len(checkboxes[i]) == 6:\n",
    "        f = f6\n",
    "\n",
    "    out = widgets.interactive_output(f, checkboxes_names[general_category_names[i]])\n",
    "\n",
    "    display(ui, out)"
   ]
  },
  {
   "cell_type": "code",
   "execution_count": 6,
   "metadata": {},
   "outputs": [],
   "source": [
    "import torch\n",
    "person = torch.zeros(24)\n",
    "\n",
    "j = 0\n",
    "for indicies in zip((race_idx, religion_idx, sexual_orientation_idx, gender_idx, disability_idx)):\n",
    "    for i in range(len(indicies[0])): \n",
    "        person[indicies[0][i]] = int(checkboxes[j][i].value)\n",
    "\n",
    "    j += 1  "
   ]
  },
  {
   "cell_type": "code",
   "execution_count": 7,
   "metadata": {},
   "outputs": [
    {
     "data": {
      "text/plain": [
       "tensor([0., 0., 0., 0., 0., 0., 0., 0., 0., 0., 0., 0., 0., 0., 0., 0., 0., 0., 0., 0., 0., 0., 0., 0.])"
      ]
     },
     "execution_count": 7,
     "metadata": {},
     "output_type": "execute_result"
    }
   ],
   "source": [
    "person"
   ]
  },
  {
   "cell_type": "code",
   "execution_count": 74,
   "metadata": {},
   "outputs": [
    {
     "name": "stdout",
     "output_type": "stream",
     "text": [
      "asian atheist bisexual black buddhist christian female heterosexual hindu homosexual_gay_or_lesbian intellectual_or_learning_disability jewish latino male muslim other_disability other_gender other_race_or_ethnicity other_religion other_sexual_orientation physical_disability psychiatric_or_mental_illness transgender white\n"
     ]
    }
   ],
   "source": [
    "print(*category_names)"
   ]
  },
  {
   "cell_type": "code",
   "execution_count": null,
   "metadata": {},
   "outputs": [],
   "source": []
  }
 ],
 "metadata": {
  "kernelspec": {
   "display_name": "Python 3",
   "language": "python",
   "name": "python3"
  },
  "language_info": {
   "codemirror_mode": {
    "name": "ipython",
    "version": 3
   },
   "file_extension": ".py",
   "mimetype": "text/x-python",
   "name": "python",
   "nbconvert_exporter": "python",
   "pygments_lexer": "ipython3",
   "version": "3.7.6"
  }
 },
 "nbformat": 4,
 "nbformat_minor": 4
}
